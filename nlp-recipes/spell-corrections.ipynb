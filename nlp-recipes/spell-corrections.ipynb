{
 "cells": [
  {
   "cell_type": "markdown",
   "metadata": {},
   "source": [
    "### Step 1: Read/create the text data\n",
    "Let’s create a list of strings and assign it to a variable"
   ]
  },
  {
   "cell_type": "code",
   "execution_count": 1,
   "metadata": {},
   "outputs": [],
   "source": [
    "text=['Introduction to NLP','It is likely to be useful to people ',\n",
    "      'Machine learning is the new electrcity', 'R is good langauage',\n",
    "      'I like this book','I want more books like this']"
   ]
  },
  {
   "cell_type": "code",
   "execution_count": 2,
   "metadata": {},
   "outputs": [
    {
     "name": "stdout",
     "output_type": "stream",
     "text": [
      "                                    tweet\n",
      "0                     Introduction to NLP\n",
      "1    It is likely to be useful to people \n",
      "2  Machine learning is the new electrcity\n",
      "3                     R is good langauage\n",
      "4                        I like this book\n",
      "5             I want more books like this\n"
     ]
    }
   ],
   "source": [
    "#convert list to dataframe\n",
    "import pandas as pd\n",
    "\n",
    "df = pd.DataFrame({'tweet':text})\n",
    "print(df)"
   ]
  },
  {
   "cell_type": "markdown",
   "metadata": {},
   "source": [
    "### Step 2: Spelling Correction\n",
    "Using TextBlob, we can do spelling correction as shown below:"
   ]
  },
  {
   "cell_type": "markdown",
   "metadata": {},
   "source": [
    "Install textblob library\n",
    "```\n",
    "!pip install textblob\n",
    "```"
   ]
  },
  {
   "cell_type": "code",
   "execution_count": 3,
   "metadata": {},
   "outputs": [
    {
     "data": {
      "text/plain": [
       "0                        Introduction to NLP\n",
       "1       It is likely to be useful to people \n",
       "2    Machine learning is the new electricity\n",
       "3                         R is good language\n",
       "4                           I like this book\n",
       "5                I want more books like this\n",
       "Name: tweet, dtype: object"
      ]
     },
     "execution_count": 3,
     "metadata": {},
     "output_type": "execute_result"
    }
   ],
   "source": [
    "#import libraries and use 'correct' function\n",
    "from textblob import TextBlob\n",
    "df['tweet'].apply(lambda x: str(TextBlob(x).correct()))"
   ]
  },
  {
   "cell_type": "markdown",
   "metadata": {},
   "source": [
    "Notice the spelling of electricity"
   ]
  }
 ],
 "metadata": {
  "kernelspec": {
   "display_name": "Python 3",
   "language": "python",
   "name": "python3"
  },
  "language_info": {
   "codemirror_mode": {
    "name": "ipython",
    "version": 3
   },
   "file_extension": ".py",
   "mimetype": "text/x-python",
   "name": "python",
   "nbconvert_exporter": "python",
   "pygments_lexer": "ipython3",
   "version": "3.7.4"
  }
 },
 "nbformat": 4,
 "nbformat_minor": 2
}
